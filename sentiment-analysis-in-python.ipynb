{
 "cells": [
  {
   "cell_type": "markdown",
   "id": "3eb3b259",
   "metadata": {
    "papermill": {
     "duration": 0.007546,
     "end_time": "2022-06-24T06:15:24.111594",
     "exception": false,
     "start_time": "2022-06-24T06:15:24.104048",
     "status": "completed"
    },
    "tags": []
   },
   "source": [
    "# **Sentiment analysis in python**"
   ]
  },
  {
   "cell_type": "code",
   "execution_count": 1,
   "id": "3124602a",
   "metadata": {
    "execution": {
     "iopub.execute_input": "2022-06-24T06:15:24.128467Z",
     "iopub.status.busy": "2022-06-24T06:15:24.127284Z",
     "iopub.status.idle": "2022-06-24T06:15:26.336321Z",
     "shell.execute_reply": "2022-06-24T06:15:26.334988Z"
    },
    "papermill": {
     "duration": 2.220992,
     "end_time": "2022-06-24T06:15:26.339522",
     "exception": false,
     "start_time": "2022-06-24T06:15:24.118530",
     "status": "completed"
    },
    "tags": []
   },
   "outputs": [],
   "source": [
    "import numpy as np \n",
    "import pandas as pd \n",
    "import matplotlib.pyplot as plt\n",
    "import seaborn as sns\n",
    "\n",
    "plt.style.use('ggplot')\n",
    "\n",
    "import nltk #natural language tool kit"
   ]
  },
  {
   "cell_type": "code",
   "execution_count": 2,
   "id": "03493328",
   "metadata": {
    "execution": {
     "iopub.execute_input": "2022-06-24T06:15:26.354806Z",
     "iopub.status.busy": "2022-06-24T06:15:26.354361Z",
     "iopub.status.idle": "2022-06-24T06:15:34.751554Z",
     "shell.execute_reply": "2022-06-24T06:15:34.750057Z"
    },
    "papermill": {
     "duration": 8.407864,
     "end_time": "2022-06-24T06:15:34.754102",
     "exception": false,
     "start_time": "2022-06-24T06:15:26.346238",
     "status": "completed"
    },
    "tags": []
   },
   "outputs": [
    {
     "name": "stdout",
     "output_type": "stream",
     "text": [
      "(568454, 10)\n"
     ]
    },
    {
     "data": {
      "text/html": [
       "<div>\n",
       "<style scoped>\n",
       "    .dataframe tbody tr th:only-of-type {\n",
       "        vertical-align: middle;\n",
       "    }\n",
       "\n",
       "    .dataframe tbody tr th {\n",
       "        vertical-align: top;\n",
       "    }\n",
       "\n",
       "    .dataframe thead th {\n",
       "        text-align: right;\n",
       "    }\n",
       "</style>\n",
       "<table border=\"1\" class=\"dataframe\">\n",
       "  <thead>\n",
       "    <tr style=\"text-align: right;\">\n",
       "      <th></th>\n",
       "      <th>Id</th>\n",
       "      <th>ProductId</th>\n",
       "      <th>UserId</th>\n",
       "      <th>ProfileName</th>\n",
       "      <th>HelpfulnessNumerator</th>\n",
       "      <th>HelpfulnessDenominator</th>\n",
       "      <th>Score</th>\n",
       "      <th>Time</th>\n",
       "      <th>Summary</th>\n",
       "      <th>Text</th>\n",
       "    </tr>\n",
       "  </thead>\n",
       "  <tbody>\n",
       "    <tr>\n",
       "      <th>0</th>\n",
       "      <td>1</td>\n",
       "      <td>B001E4KFG0</td>\n",
       "      <td>A3SGXH7AUHU8GW</td>\n",
       "      <td>delmartian</td>\n",
       "      <td>1</td>\n",
       "      <td>1</td>\n",
       "      <td>5</td>\n",
       "      <td>1303862400</td>\n",
       "      <td>Good Quality Dog Food</td>\n",
       "      <td>I have bought several of the Vitality canned d...</td>\n",
       "    </tr>\n",
       "    <tr>\n",
       "      <th>1</th>\n",
       "      <td>2</td>\n",
       "      <td>B00813GRG4</td>\n",
       "      <td>A1D87F6ZCVE5NK</td>\n",
       "      <td>dll pa</td>\n",
       "      <td>0</td>\n",
       "      <td>0</td>\n",
       "      <td>1</td>\n",
       "      <td>1346976000</td>\n",
       "      <td>Not as Advertised</td>\n",
       "      <td>Product arrived labeled as Jumbo Salted Peanut...</td>\n",
       "    </tr>\n",
       "    <tr>\n",
       "      <th>2</th>\n",
       "      <td>3</td>\n",
       "      <td>B000LQOCH0</td>\n",
       "      <td>ABXLMWJIXXAIN</td>\n",
       "      <td>Natalia Corres \"Natalia Corres\"</td>\n",
       "      <td>1</td>\n",
       "      <td>1</td>\n",
       "      <td>4</td>\n",
       "      <td>1219017600</td>\n",
       "      <td>\"Delight\" says it all</td>\n",
       "      <td>This is a confection that has been around a fe...</td>\n",
       "    </tr>\n",
       "    <tr>\n",
       "      <th>3</th>\n",
       "      <td>4</td>\n",
       "      <td>B000UA0QIQ</td>\n",
       "      <td>A395BORC6FGVXV</td>\n",
       "      <td>Karl</td>\n",
       "      <td>3</td>\n",
       "      <td>3</td>\n",
       "      <td>2</td>\n",
       "      <td>1307923200</td>\n",
       "      <td>Cough Medicine</td>\n",
       "      <td>If you are looking for the secret ingredient i...</td>\n",
       "    </tr>\n",
       "    <tr>\n",
       "      <th>4</th>\n",
       "      <td>5</td>\n",
       "      <td>B006K2ZZ7K</td>\n",
       "      <td>A1UQRSCLF8GW1T</td>\n",
       "      <td>Michael D. Bigham \"M. Wassir\"</td>\n",
       "      <td>0</td>\n",
       "      <td>0</td>\n",
       "      <td>5</td>\n",
       "      <td>1350777600</td>\n",
       "      <td>Great taffy</td>\n",
       "      <td>Great taffy at a great price.  There was a wid...</td>\n",
       "    </tr>\n",
       "  </tbody>\n",
       "</table>\n",
       "</div>"
      ],
      "text/plain": [
       "   Id   ProductId          UserId                      ProfileName  \\\n",
       "0   1  B001E4KFG0  A3SGXH7AUHU8GW                       delmartian   \n",
       "1   2  B00813GRG4  A1D87F6ZCVE5NK                           dll pa   \n",
       "2   3  B000LQOCH0   ABXLMWJIXXAIN  Natalia Corres \"Natalia Corres\"   \n",
       "3   4  B000UA0QIQ  A395BORC6FGVXV                             Karl   \n",
       "4   5  B006K2ZZ7K  A1UQRSCLF8GW1T    Michael D. Bigham \"M. Wassir\"   \n",
       "\n",
       "   HelpfulnessNumerator  HelpfulnessDenominator  Score        Time  \\\n",
       "0                     1                       1      5  1303862400   \n",
       "1                     0                       0      1  1346976000   \n",
       "2                     1                       1      4  1219017600   \n",
       "3                     3                       3      2  1307923200   \n",
       "4                     0                       0      5  1350777600   \n",
       "\n",
       "                 Summary                                               Text  \n",
       "0  Good Quality Dog Food  I have bought several of the Vitality canned d...  \n",
       "1      Not as Advertised  Product arrived labeled as Jumbo Salted Peanut...  \n",
       "2  \"Delight\" says it all  This is a confection that has been around a fe...  \n",
       "3         Cough Medicine  If you are looking for the secret ingredient i...  \n",
       "4            Great taffy  Great taffy at a great price.  There was a wid...  "
      ]
     },
     "execution_count": 2,
     "metadata": {},
     "output_type": "execute_result"
    }
   ],
   "source": [
    "# Read in data\n",
    "df = pd.read_csv('../input/amazon-fine-food-reviews/Reviews.csv')\n",
    "print(df.shape)\n",
    "df = df.head(5000)\n",
    "df.head()"
   ]
  },
  {
   "cell_type": "code",
   "execution_count": 3,
   "id": "5956f4d1",
   "metadata": {
    "execution": {
     "iopub.execute_input": "2022-06-24T06:15:34.770616Z",
     "iopub.status.busy": "2022-06-24T06:15:34.769598Z",
     "iopub.status.idle": "2022-06-24T06:15:35.058648Z",
     "shell.execute_reply": "2022-06-24T06:15:35.057721Z"
    },
    "papermill": {
     "duration": 0.299758,
     "end_time": "2022-06-24T06:15:35.060981",
     "exception": false,
     "start_time": "2022-06-24T06:15:34.761223",
     "status": "completed"
    },
    "tags": []
   },
   "outputs": [
    {
     "data": {
      "text/plain": [
       "<AxesSubplot:>"
      ]
     },
     "execution_count": 3,
     "metadata": {},
     "output_type": "execute_result"
    },
    {
     "data": {
      "image/png": "[encoded data removed]",
      "text/plain": [
       "<Figure size 432x288 with 1 Axes>"
      ]
     },
     "metadata": {},
     "output_type": "display_data"
    }
   ],
   "source": [
    "df['Score'].value_counts().sort_index().plot()"
   ]
  },
  {
   "cell_type": "code",
   "execution_count": 4,
   "id": "71d03f1b",
   "metadata": {
    "execution": {
     "iopub.execute_input": "2022-06-24T06:15:35.078344Z",
     "iopub.status.busy": "2022-06-24T06:15:35.077198Z",
     "iopub.status.idle": "2022-06-24T06:15:35.280999Z",
     "shell.execute_reply": "2022-06-24T06:15:35.279686Z"
    },
    "papermill": {
     "duration": 0.215042,
     "end_time": "2022-06-24T06:15:35.283439",
     "exception": false,
     "start_time": "2022-06-24T06:15:35.068397",
     "status": "completed"
    },
    "tags": []
   },
   "outputs": [
    {
     "data": {
      "image/png": "[encoded data removed]",
      "text/plain": [
       "<Figure size 360x360 with 1 Axes>"
      ]
     },
     "metadata": {},
     "output_type": "display_data"
    }
   ],
   "source": [
    "ax=df['Score'].value_counts().sort_index().plot(kind='bar',\n",
    "                    title='Count of Reviews by Stars',\n",
    "                    figsize=(5,5))\n",
    "ax.set_xlabel('Review Stars')\n",
    "ax.set_ylabel('Count of reviewers')\n",
    "plt.show()"
   ]
  },
  {
   "cell_type": "markdown",
   "id": "b7e76f61",
   "metadata": {
    "papermill": {
     "duration": 0.007437,
     "end_time": "2022-06-24T06:15:35.298684",
     "exception": false,
     "start_time": "2022-06-24T06:15:35.291247",
     "status": "completed"
    },
    "tags": []
   },
   "source": [
    "# **BASIC OF NLTK**"
   ]
  },
  {
   "cell_type": "code",
   "execution_count": 5,
   "id": "2d2a52b2",
   "metadata": {
    "execution": {
     "iopub.execute_input": "2022-06-24T06:15:35.316412Z",
     "iopub.status.busy": "2022-06-24T06:15:35.316018Z",
     "iopub.status.idle": "2022-06-24T06:15:35.321696Z",
     "shell.execute_reply": "2022-06-24T06:15:35.320731Z"
    },
    "papermill": {
     "duration": 0.019344,
     "end_time": "2022-06-24T06:15:35.325685",
     "exception": false,
     "start_time": "2022-06-24T06:15:35.306341",
     "status": "completed"
    },
    "tags": []
   },
   "outputs": [
    {
     "name": "stdout",
     "output_type": "stream",
     "text": [
      "Perfect size sea salt for the table or the picnic basket.  We love it. Shakes well, no clumping and flows freely.\n"
     ]
    }
   ],
   "source": [
    "ex = df['Text'][157]\n",
    "print(ex)"
   ]
  },
  {
   "cell_type": "code",
   "execution_count": 6,
   "id": "101cd27c",
   "metadata": {
    "execution": {
     "iopub.execute_input": "2022-06-24T06:15:35.343802Z",
     "iopub.status.busy": "2022-06-24T06:15:35.343357Z",
     "iopub.status.idle": "2022-06-24T06:15:35.370779Z",
     "shell.execute_reply": "2022-06-24T06:15:35.369541Z"
    },
    "papermill": {
     "duration": 0.039238,
     "end_time": "2022-06-24T06:15:35.373186",
     "exception": false,
     "start_time": "2022-06-24T06:15:35.333948",
     "status": "completed"
    },
    "tags": []
   },
   "outputs": [
    {
     "data": {
      "text/plain": [
       "['Perfect',\n",
       " 'size',\n",
       " 'sea',\n",
       " 'salt',\n",
       " 'for',\n",
       " 'the',\n",
       " 'table',\n",
       " 'or',\n",
       " 'the',\n",
       " 'picnic']"
      ]
     },
     "execution_count": 6,
     "metadata": {},
     "output_type": "execute_result"
    }
   ],
   "source": [
    "token= nltk.word_tokenize(ex)\n",
    "token[:10]"
   ]
  },
  {
   "cell_type": "code",
   "execution_count": 7,
   "id": "1bc5b4b0",
   "metadata": {
    "execution": {
     "iopub.execute_input": "2022-06-24T06:15:35.392345Z",
     "iopub.status.busy": "2022-06-24T06:15:35.391352Z",
     "iopub.status.idle": "2022-06-24T06:15:35.566594Z",
     "shell.execute_reply": "2022-06-24T06:15:35.565429Z"
    },
    "papermill": {
     "duration": 0.18767,
     "end_time": "2022-06-24T06:15:35.569196",
     "exception": false,
     "start_time": "2022-06-24T06:15:35.381526",
     "status": "completed"
    },
    "tags": []
   },
   "outputs": [
    {
     "data": {
      "text/plain": [
       "[('Perfect', 'NNP'),\n",
       " ('size', 'NN'),\n",
       " ('sea', 'NN'),\n",
       " ('salt', 'NN'),\n",
       " ('for', 'IN'),\n",
       " ('the', 'DT'),\n",
       " ('table', 'NN'),\n",
       " ('or', 'CC'),\n",
       " ('the', 'DT'),\n",
       " ('picnic', 'NN')]"
      ]
     },
     "execution_count": 7,
     "metadata": {},
     "output_type": "execute_result"
    }
   ],
   "source": [
    "tagged = nltk.pos_tag(token)\n",
    "tagged[:10]"
   ]
  },
  {
   "cell_type": "code",
   "execution_count": 8,
   "id": "c488c3e0",
   "metadata": {
    "execution": {
     "iopub.execute_input": "2022-06-24T06:15:35.587720Z",
     "iopub.status.busy": "2022-06-24T06:15:35.587302Z",
     "iopub.status.idle": "2022-06-24T06:15:35.771013Z",
     "shell.execute_reply": "2022-06-24T06:15:35.769720Z"
    },
    "papermill": {
     "duration": 0.195723,
     "end_time": "2022-06-24T06:15:35.773711",
     "exception": false,
     "start_time": "2022-06-24T06:15:35.577988",
     "status": "completed"
    },
    "tags": []
   },
   "outputs": [
    {
     "name": "stdout",
     "output_type": "stream",
     "text": [
      "(S\n",
      "  (GPE Perfect/NNP)\n",
      "  size/NN\n",
      "  sea/NN\n",
      "  salt/NN\n",
      "  for/IN\n",
      "  the/DT\n",
      "  table/NN\n",
      "  or/CC\n",
      "  the/DT\n",
      "  picnic/NN\n",
      "  basket/NN\n",
      "  ./.\n",
      "  We/PRP\n",
      "  love/VBP\n",
      "  it/PRP\n",
      "  ./.\n",
      "  (PERSON Shakes/NNP)\n",
      "  well/RB\n",
      "  ,/,\n",
      "  no/DT\n",
      "  clumping/NN\n",
      "  and/CC\n",
      "  flows/VBZ\n",
      "  freely/RB\n",
      "  ./.)\n"
     ]
    }
   ],
   "source": [
    "entities = nltk.chunk.ne_chunk(tagged)\n",
    "entities.pprint()"
   ]
  },
  {
   "cell_type": "markdown",
   "id": "3a3070a8",
   "metadata": {
    "papermill": {
     "duration": 0.008367,
     "end_time": "2022-06-24T06:15:35.790221",
     "exception": false,
     "start_time": "2022-06-24T06:15:35.781854",
     "status": "completed"
    },
    "tags": []
   },
   "source": [
    "# **VADER Seniment Scoring**"
   ]
  },
  {
   "cell_type": "code",
   "execution_count": 9,
   "id": "31545c56",
   "metadata": {
    "execution": {
     "iopub.execute_input": "2022-06-24T06:15:35.809491Z",
     "iopub.status.busy": "2022-06-24T06:15:35.808398Z",
     "iopub.status.idle": "2022-06-24T06:15:35.856212Z",
     "shell.execute_reply": "2022-06-24T06:15:35.854946Z"
    },
    "papermill": {
     "duration": 0.060954,
     "end_time": "2022-06-24T06:15:35.859507",
     "exception": false,
     "start_time": "2022-06-24T06:15:35.798553",
     "status": "completed"
    },
    "tags": []
   },
   "outputs": [
    {
     "name": "stderr",
     "output_type": "stream",
     "text": [
      "/opt/conda/lib/python3.7/site-packages/nltk/twitter/__init__.py:20: UserWarning: The twython library has not been installed. Some functionality from the twitter package will not be available.\n",
      "  warnings.warn(\"The twython library has not been installed. \"\n"
     ]
    }
   ],
   "source": [
    "from nltk.sentiment import SentimentIntensityAnalyzer\n",
    "from tqdm.notebook import tqdm\n",
    "\n",
    "sia = SentimentIntensityAnalyzer()"
   ]
  },
  {
   "cell_type": "code",
   "execution_count": 10,
   "id": "8eefb4fa",
   "metadata": {
    "execution": {
     "iopub.execute_input": "2022-06-24T06:15:35.879788Z",
     "iopub.status.busy": "2022-06-24T06:15:35.879353Z",
     "iopub.status.idle": "2022-06-24T06:15:35.887200Z",
     "shell.execute_reply": "2022-06-24T06:15:35.886071Z"
    },
    "papermill": {
     "duration": 0.020047,
     "end_time": "2022-06-24T06:15:35.889507",
     "exception": false,
     "start_time": "2022-06-24T06:15:35.869460",
     "status": "completed"
    },
    "tags": []
   },
   "outputs": [
    {
     "data": {
      "text/plain": [
       "{'neg': 0.0, 'neu': 0.318, 'pos': 0.682, 'compound': 0.6468}"
      ]
     },
     "execution_count": 10,
     "metadata": {},
     "output_type": "execute_result"
    }
   ],
   "source": [
    "sia.polarity_scores('I am so happy!')"
   ]
  },
  {
   "cell_type": "code",
   "execution_count": 11,
   "id": "4a19bb07",
   "metadata": {
    "execution": {
     "iopub.execute_input": "2022-06-24T06:15:35.908312Z",
     "iopub.status.busy": "2022-06-24T06:15:35.907565Z",
     "iopub.status.idle": "2022-06-24T06:15:35.915181Z",
     "shell.execute_reply": "2022-06-24T06:15:35.913825Z"
    },
    "papermill": {
     "duration": 0.019722,
     "end_time": "2022-06-24T06:15:35.917658",
     "exception": false,
     "start_time": "2022-06-24T06:15:35.897936",
     "status": "completed"
    },
    "tags": []
   },
   "outputs": [
    {
     "data": {
      "text/plain": [
       "{'neg': 0.0, 'neu': 0.61, 'pos': 0.39, 'compound': 0.3724}"
      ]
     },
     "execution_count": 11,
     "metadata": {},
     "output_type": "execute_result"
    }
   ],
   "source": [
    "sia.polarity_scores('I am not at all sad')"
   ]
  },
  {
   "cell_type": "code",
   "execution_count": 12,
   "id": "a69d2ac6",
   "metadata": {
    "execution": {
     "iopub.execute_input": "2022-06-24T06:15:35.936986Z",
     "iopub.status.busy": "2022-06-24T06:15:35.936557Z",
     "iopub.status.idle": "2022-06-24T06:15:35.944020Z",
     "shell.execute_reply": "2022-06-24T06:15:35.942825Z"
    },
    "papermill": {
     "duration": 0.020132,
     "end_time": "2022-06-24T06:15:35.946285",
     "exception": false,
     "start_time": "2022-06-24T06:15:35.926153",
     "status": "completed"
    },
    "tags": []
   },
   "outputs": [
    {
     "data": {
      "text/plain": [
       "{'neg': 0.071, 'neu': 0.514, 'pos': 0.415, 'compound': 0.8934}"
      ]
     },
     "execution_count": 12,
     "metadata": {},
     "output_type": "execute_result"
    }
   ],
   "source": [
    "sia.polarity_scores(ex)"
   ]
  },
  {
   "cell_type": "code",
   "execution_count": 13,
   "id": "838333bf",
   "metadata": {
    "execution": {
     "iopub.execute_input": "2022-06-24T06:15:35.966292Z",
     "iopub.status.busy": "2022-06-24T06:15:35.965484Z",
     "iopub.status.idle": "2022-06-24T06:15:42.249645Z",
     "shell.execute_reply": "2022-06-24T06:15:42.248285Z"
    },
    "papermill": {
     "duration": 6.296854,
     "end_time": "2022-06-24T06:15:42.252105",
     "exception": false,
     "start_time": "2022-06-24T06:15:35.955251",
     "status": "completed"
    },
    "tags": []
   },
   "outputs": [
    {
     "data": {
      "application/vnd.jupyter.widget-view+json": {
       "model_id": "74671e4dbd51466ca415dca71330b565",
       "version_major": 2,
       "version_minor": 0
      },
      "text/plain": [
       "  0%|          | 0/5000 [00:00<?, ?it/s]"
      ]
     },
     "metadata": {},
     "output_type": "display_data"
    }
   ],
   "source": [
    "# Run the polarity score on the entire dataset\n",
    "res = {} #made an empty dictionary \n",
    "for i, row in tqdm(df.iterrows(), total=len(df)):\n",
    "    text = row['Text']\n",
    "    myid = row['Id']\n",
    "    res[myid] = sia.polarity_scores(text)\n",
    "    "
   ]
  },
  {
   "cell_type": "code",
   "execution_count": 14,
   "id": "1258a39b",
   "metadata": {
    "execution": {
     "iopub.execute_input": "2022-06-24T06:15:42.272186Z",
     "iopub.status.busy": "2022-06-24T06:15:42.271787Z",
     "iopub.status.idle": "2022-06-24T06:15:42.277035Z",
     "shell.execute_reply": "2022-06-24T06:15:42.275709Z"
    },
    "papermill": {
     "duration": 0.018105,
     "end_time": "2022-06-24T06:15:42.279667",
     "exception": false,
     "start_time": "2022-06-24T06:15:42.261562",
     "status": "completed"
    },
    "tags": []
   },
   "outputs": [],
   "source": [
    "#print(res)"
   ]
  },
  {
   "cell_type": "code",
   "execution_count": 15,
   "id": "ff0ea1b1",
   "metadata": {
    "execution": {
     "iopub.execute_input": "2022-06-24T06:15:42.299499Z",
     "iopub.status.busy": "2022-06-24T06:15:42.299079Z",
     "iopub.status.idle": "2022-06-24T06:15:42.557403Z",
     "shell.execute_reply": "2022-06-24T06:15:42.556025Z"
    },
    "papermill": {
     "duration": 0.271671,
     "end_time": "2022-06-24T06:15:42.560237",
     "exception": false,
     "start_time": "2022-06-24T06:15:42.288566",
     "status": "completed"
    },
    "tags": []
   },
   "outputs": [
    {
     "data": {
      "text/html": [
       "<div>\n",
       "<style scoped>\n",
       "    .dataframe tbody tr th:only-of-type {\n",
       "        vertical-align: middle;\n",
       "    }\n",
       "\n",
       "    .dataframe tbody tr th {\n",
       "        vertical-align: top;\n",
       "    }\n",
       "\n",
       "    .dataframe thead th {\n",
       "        text-align: right;\n",
       "    }\n",
       "</style>\n",
       "<table border=\"1\" class=\"dataframe\">\n",
       "  <thead>\n",
       "    <tr style=\"text-align: right;\">\n",
       "      <th></th>\n",
       "      <th>Id</th>\n",
       "      <th>neg</th>\n",
       "      <th>neu</th>\n",
       "      <th>pos</th>\n",
       "      <th>compound</th>\n",
       "      <th>ProductId</th>\n",
       "      <th>UserId</th>\n",
       "      <th>ProfileName</th>\n",
       "      <th>HelpfulnessNumerator</th>\n",
       "      <th>HelpfulnessDenominator</th>\n",
       "      <th>Score</th>\n",
       "      <th>Time</th>\n",
       "      <th>Summary</th>\n",
       "      <th>Text</th>\n",
       "    </tr>\n",
       "  </thead>\n",
       "  <tbody>\n",
       "    <tr>\n",
       "      <th>0</th>\n",
       "      <td>1</td>\n",
       "      <td>0.000</td>\n",
       "      <td>0.695</td>\n",
       "      <td>0.305</td>\n",
       "      <td>0.9441</td>\n",
       "      <td>B001E4KFG0</td>\n",
       "      <td>A3SGXH7AUHU8GW</td>\n",
       "      <td>delmartian</td>\n",
       "      <td>1</td>\n",
       "      <td>1</td>\n",
       "      <td>5</td>\n",
       "      <td>1303862400</td>\n",
       "      <td>Good Quality Dog Food</td>\n",
       "      <td>I have bought several of the Vitality canned d...</td>\n",
       "    </tr>\n",
       "    <tr>\n",
       "      <th>1</th>\n",
       "      <td>2</td>\n",
       "      <td>0.079</td>\n",
       "      <td>0.853</td>\n",
       "      <td>0.068</td>\n",
       "      <td>-0.1027</td>\n",
       "      <td>B00813GRG4</td>\n",
       "      <td>A1D87F6ZCVE5NK</td>\n",
       "      <td>dll pa</td>\n",
       "      <td>0</td>\n",
       "      <td>0</td>\n",
       "      <td>1</td>\n",
       "      <td>1346976000</td>\n",
       "      <td>Not as Advertised</td>\n",
       "      <td>Product arrived labeled as Jumbo Salted Peanut...</td>\n",
       "    </tr>\n",
       "    <tr>\n",
       "      <th>2</th>\n",
       "      <td>3</td>\n",
       "      <td>0.091</td>\n",
       "      <td>0.754</td>\n",
       "      <td>0.155</td>\n",
       "      <td>0.8265</td>\n",
       "      <td>B000LQOCH0</td>\n",
       "      <td>ABXLMWJIXXAIN</td>\n",
       "      <td>Natalia Corres \"Natalia Corres\"</td>\n",
       "      <td>1</td>\n",
       "      <td>1</td>\n",
       "      <td>4</td>\n",
       "      <td>1219017600</td>\n",
       "      <td>\"Delight\" says it all</td>\n",
       "      <td>This is a confection that has been around a fe...</td>\n",
       "    </tr>\n",
       "    <tr>\n",
       "      <th>3</th>\n",
       "      <td>4</td>\n",
       "      <td>0.000</td>\n",
       "      <td>1.000</td>\n",
       "      <td>0.000</td>\n",
       "      <td>0.0000</td>\n",
       "      <td>B000UA0QIQ</td>\n",
       "      <td>A395BORC6FGVXV</td>\n",
       "      <td>Karl</td>\n",
       "      <td>3</td>\n",
       "      <td>3</td>\n",
       "      <td>2</td>\n",
       "      <td>1307923200</td>\n",
       "      <td>Cough Medicine</td>\n",
       "      <td>If you are looking for the secret ingredient i...</td>\n",
       "    </tr>\n",
       "    <tr>\n",
       "      <th>4</th>\n",
       "      <td>5</td>\n",
       "      <td>0.000</td>\n",
       "      <td>0.552</td>\n",
       "      <td>0.448</td>\n",
       "      <td>0.9468</td>\n",
       "      <td>B006K2ZZ7K</td>\n",
       "      <td>A1UQRSCLF8GW1T</td>\n",
       "      <td>Michael D. Bigham \"M. Wassir\"</td>\n",
       "      <td>0</td>\n",
       "      <td>0</td>\n",
       "      <td>5</td>\n",
       "      <td>1350777600</td>\n",
       "      <td>Great taffy</td>\n",
       "      <td>Great taffy at a great price.  There was a wid...</td>\n",
       "    </tr>\n",
       "  </tbody>\n",
       "</table>\n",
       "</div>"
      ],
      "text/plain": [
       "   Id    neg    neu    pos  compound   ProductId          UserId  \\\n",
       "0   1  0.000  0.695  0.305    0.9441  B001E4KFG0  A3SGXH7AUHU8GW   \n",
       "1   2  0.079  0.853  0.068   -0.1027  B00813GRG4  A1D87F6ZCVE5NK   \n",
       "2   3  0.091  0.754  0.155    0.8265  B000LQOCH0   ABXLMWJIXXAIN   \n",
       "3   4  0.000  1.000  0.000    0.0000  B000UA0QIQ  A395BORC6FGVXV   \n",
       "4   5  0.000  0.552  0.448    0.9468  B006K2ZZ7K  A1UQRSCLF8GW1T   \n",
       "\n",
       "                       ProfileName  HelpfulnessNumerator  \\\n",
       "0                       delmartian                     1   \n",
       "1                           dll pa                     0   \n",
       "2  Natalia Corres \"Natalia Corres\"                     1   \n",
       "3                             Karl                     3   \n",
       "4    Michael D. Bigham \"M. Wassir\"                     0   \n",
       "\n",
       "   HelpfulnessDenominator  Score        Time                Summary  \\\n",
       "0                       1      5  1303862400  Good Quality Dog Food   \n",
       "1                       0      1  1346976000      Not as Advertised   \n",
       "2                       1      4  1219017600  \"Delight\" says it all   \n",
       "3                       3      2  1307923200         Cough Medicine   \n",
       "4                       0      5  1350777600            Great taffy   \n",
       "\n",
       "                                                Text  \n",
       "0  I have bought several of the Vitality canned d...  \n",
       "1  Product arrived labeled as Jumbo Salted Peanut...  \n",
       "2  This is a confection that has been around a fe...  \n",
       "3  If you are looking for the secret ingredient i...  \n",
       "4  Great taffy at a great price.  There was a wid...  "
      ]
     },
     "execution_count": 15,
     "metadata": {},
     "output_type": "execute_result"
    }
   ],
   "source": [
    "data_vaders = pd.DataFrame(res).T\n",
    "data_vaders = data_vaders.reset_index().rename(columns={'index': 'Id'})\n",
    "data_vaders = data_vaders.merge(df, how='left')\n",
    "\n",
    "# Now we have sentiment score and metadata\n",
    "data_vaders.head()"
   ]
  },
  {
   "cell_type": "code",
   "execution_count": 16,
   "id": "1a56051a",
   "metadata": {
    "execution": {
     "iopub.execute_input": "2022-06-24T06:15:42.580158Z",
     "iopub.status.busy": "2022-06-24T06:15:42.579744Z",
     "iopub.status.idle": "2022-06-24T06:15:42.997105Z",
     "shell.execute_reply": "2022-06-24T06:15:42.995902Z"
    },
    "papermill": {
     "duration": 0.430614,
     "end_time": "2022-06-24T06:15:42.999942",
     "exception": false,
     "start_time": "2022-06-24T06:15:42.569328",
     "status": "completed"
    },
    "tags": []
   },
   "outputs": [
    {
     "data": {
      "image/png": "[encoded data removed]",
      "text/plain": [
       "<Figure size 432x288 with 1 Axes>"
      ]
     },
     "metadata": {},
     "output_type": "display_data"
    }
   ],
   "source": [
    "ax = sns.barplot(data=data_vaders, x='Score', y='compound')\n",
    "ax.set_title('Compound Score against Amazon Star Review')\n",
    "ax.set_xlabel('Stars')\n",
    "ax.set_ylabel('Compound Score')\n",
    "plt.show()"
   ]
  },
  {
   "cell_type": "code",
   "execution_count": 17,
   "id": "4449fefd",
   "metadata": {
    "execution": {
     "iopub.execute_input": "2022-06-24T06:15:43.020590Z",
     "iopub.status.busy": "2022-06-24T06:15:43.020204Z",
     "iopub.status.idle": "2022-06-24T06:15:44.102945Z",
     "shell.execute_reply": "2022-06-24T06:15:44.102065Z"
    },
    "papermill": {
     "duration": 1.095587,
     "end_time": "2022-06-24T06:15:44.105091",
     "exception": false,
     "start_time": "2022-06-24T06:15:43.009504",
     "status": "completed"
    },
    "tags": []
   },
   "outputs": [
    {
     "data": {
      "image/png": "[encoded data removed]",
      "text/plain": [
       "<Figure size 864x216 with 3 Axes>"
      ]
     },
     "metadata": {},
     "output_type": "display_data"
    }
   ],
   "source": [
    "fig, axs = plt.subplots(1, 3, figsize=(12, 3))\n",
    "sns.barplot(data=data_vaders, x='Score', y='pos', ax=axs[0])\n",
    "sns.barplot(data=data_vaders, x='Score', y='neu', ax=axs[1])\n",
    "sns.barplot(data=data_vaders, x='Score', y='neg', ax=axs[2])\n",
    "axs[0].set_title('Positive')\n",
    "axs[1].set_title('Neutral')\n",
    "axs[2].set_title('Negative')\n",
    "plt.tight_layout()\n",
    "plt.show()"
   ]
  },
  {
   "cell_type": "markdown",
   "id": "459216c5",
   "metadata": {
    "papermill": {
     "duration": 0.009367,
     "end_time": "2022-06-24T06:15:44.124345",
     "exception": false,
     "start_time": "2022-06-24T06:15:44.114978",
     "status": "completed"
    },
    "tags": []
   },
   "source": [
    "# **Roberta Pretrained Model**"
   ]
  },
  {
   "cell_type": "code",
   "execution_count": 18,
   "id": "38b6964c",
   "metadata": {
    "execution": {
     "iopub.execute_input": "2022-06-24T06:15:44.145380Z",
     "iopub.status.busy": "2022-06-24T06:15:44.144987Z",
     "iopub.status.idle": "2022-06-24T06:15:56.713179Z",
     "shell.execute_reply": "2022-06-24T06:15:56.711939Z"
    },
    "papermill": {
     "duration": 12.58216,
     "end_time": "2022-06-24T06:15:56.716039",
     "exception": false,
     "start_time": "2022-06-24T06:15:44.133879",
     "status": "completed"
    },
    "tags": []
   },
   "outputs": [],
   "source": [
    "from transformers import AutoTokenizer #huggingface library\n",
    "from transformers import AutoModelForSequenceClassification\n",
    "from scipy.special import softmax"
   ]
  },
  {
   "cell_type": "code",
   "execution_count": 19,
   "id": "86ec7e2e",
   "metadata": {
    "execution": {
     "iopub.execute_input": "2022-06-24T06:15:56.738317Z",
     "iopub.status.busy": "2022-06-24T06:15:56.736780Z",
     "iopub.status.idle": "2022-06-24T06:15:56.741964Z",
     "shell.execute_reply": "2022-06-24T06:15:56.740928Z"
    },
    "papermill": {
     "duration": 0.018715,
     "end_time": "2022-06-24T06:15:56.744530",
     "exception": false,
     "start_time": "2022-06-24T06:15:56.725815",
     "status": "completed"
    },
    "tags": []
   },
   "outputs": [],
   "source": [
    "# MODEL = f\"cardiffnlp/twitter-roberta-base-sentiment\"\n",
    "# tokenizer = AutoTokenizer.from_pretrained(MODEL)\n",
    "# model = AutoModelForSequenceClassification.from_pretrained(MODEL)"
   ]
  }
 ],
 "metadata": {
  "kernelspec": {
   "display_name": "Python 3",
   "language": "python",
   "name": "python3"
  },
  "language_info": {
   "codemirror_mode": {
    "name": "ipython",
    "version": 3
   },
   "file_extension": ".py",
   "mimetype": "text/x-python",
   "name": "python",
   "nbconvert_exporter": "python",
   "pygments_lexer": "ipython3",
   "version": "3.7.12"
  },
  "papermill": {
   "default_parameters": {},
   "duration": 46.995222,
   "end_time": "2022-06-24T06:15:59.674545",
   "environment_variables": {},
   "exception": null,
   "input_path": "__notebook__.ipynb",
   "output_path": "__notebook__.ipynb",
   "parameters": {},
   "start_time": "2022-06-24T06:15:12.679323",
   "version": "2.3.4"
  },
  "widgets": {
   "application/vnd.jupyter.widget-state+json": {
    "state": {
     "082c05e3701b48e48af8c7b6259e52ae": {
      "model_module": "@jupyter-widgets/controls",
      "model_module_version": "1.5.0",
      "model_name": "HTMLModel",
      "state": {
       "_dom_classes": [],
       "_model_module": "@jupyter-widgets/controls",
       "_model_module_version": "1.5.0",
       "_model_name": "HTMLModel",
       "_view_count": null,
       "_view_module": "@jupyter-widgets/controls",
       "_view_module_version": "1.5.0",
       "_view_name": "HTMLView",
       "description": "",
       "description_tooltip": null,
       "layout": "IPY_MODEL_1692d0d7b5cc48989b8951eefa6a3682",
       "placeholder": "​",
       "style": "IPY_MODEL_b474509197a14dfb88fada34ca7ecfdc",
       "value": " 5000/5000 [00:06&lt;00:00, 763.62it/s]"
      }
     },
     "0f64887f74de4e2691521fbab7083983": {
      "model_module": "@jupyter-widgets/controls",
      "model_module_version": "1.5.0",
      "model_name": "FloatProgressModel",
      "state": {
       "_dom_classes": [],
       "_model_module": "@jupyter-widgets/controls",
       "_model_module_version": "1.5.0",
       "_model_name": "FloatProgressModel",
       "_view_count": null,
       "_view_module": "@jupyter-widgets/controls",
       "_view_module_version": "1.5.0",
       "_view_name": "ProgressView",
       "bar_style": "success",
       "description": "",
       "description_tooltip": null,
       "layout": "IPY_MODEL_bbc752a25b8948b8b30c18b8658b9911",
       "max": 5000.0,
       "min": 0.0,
       "orientation": "horizontal",
       "style": "IPY_MODEL_b366cd8840204cfb804bbc120ab07d3d",
       "value": 5000.0
      }
     },
     "1692d0d7b5cc48989b8951eefa6a3682": {
      "model_module": "@jupyter-widgets/base",
      "model_module_version": "1.2.0",
      "model_name": "LayoutModel",
      "state": {
       "_model_module": "@jupyter-widgets/base",
       "_model_module_version": "1.2.0",
       "_model_name": "LayoutModel",
       "_view_count": null,
       "_view_module": "@jupyter-widgets/base",
       "_view_module_version": "1.2.0",
       "_view_name": "LayoutView",
       "align_content": null,
       "align_items": null,
       "align_self": null,
       "border": null,
       "bottom": null,
       "display": null,
       "flex": null,
       "flex_flow": null,
       "grid_area": null,
       "grid_auto_columns": null,
       "grid_auto_flow": null,
       "grid_auto_rows": null,
       "grid_column": null,
       "grid_gap": null,
       "grid_row": null,
       "grid_template_areas": null,
       "grid_template_columns": null,
       "grid_template_rows": null,
       "height": null,
       "justify_content": null,
       "justify_items": null,
       "left": null,
       "margin": null,
       "max_height": null,
       "max_width": null,
       "min_height": null,
       "min_width": null,
       "object_fit": null,
       "object_position": null,
       "order": null,
       "overflow": null,
       "overflow_x": null,
       "overflow_y": null,
       "padding": null,
       "right": null,
       "top": null,
       "visibility": null,
       "width": null
      }
     },
     "56faff8ad0df4ab38311c1872937a939": {
      "model_module": "@jupyter-widgets/controls",
      "model_module_version": "1.5.0",
      "model_name": "HTMLModel",
      "state": {
       "_dom_classes": [],
       "_model_module": "@jupyter-widgets/controls",
       "_model_module_version": "1.5.0",
       "_model_name": "HTMLModel",
       "_view_count": null,
       "_view_module": "@jupyter-widgets/controls",
       "_view_module_version": "1.5.0",
       "_view_name": "HTMLView",
       "description": "",
       "description_tooltip": null,
       "layout": "IPY_MODEL_ec5afa608efa40798c2e34df85d23130",
       "placeholder": "​",
       "style": "IPY_MODEL_99eb7444a1f34cb990871b4ec3dbd01a",
       "value": "100%"
      }
     },
     "74671e4dbd51466ca415dca71330b565": {
      "model_module": "@jupyter-widgets/controls",
      "model_module_version": "1.5.0",
      "model_name": "HBoxModel",
      "state": {
       "_dom_classes": [],
       "_model_module": "@jupyter-widgets/controls",
       "_model_module_version": "1.5.0",
       "_model_name": "HBoxModel",
       "_view_count": null,
       "_view_module": "@jupyter-widgets/controls",
       "_view_module_version": "1.5.0",
       "_view_name": "HBoxView",
       "box_style": "",
       "children": [
        "IPY_MODEL_56faff8ad0df4ab38311c1872937a939",
        "IPY_MODEL_0f64887f74de4e2691521fbab7083983",
        "IPY_MODEL_082c05e3701b48e48af8c7b6259e52ae"
       ],
       "layout": "IPY_MODEL_cbd812ac27ce476aa1f9c568b39e54be"
      }
     },
     "99eb7444a1f34cb990871b4ec3dbd01a": {
      "model_module": "@jupyter-widgets/controls",
      "model_module_version": "1.5.0",
      "model_name": "DescriptionStyleModel",
      "state": {
       "_model_module": "@jupyter-widgets/controls",
       "_model_module_version": "1.5.0",
       "_model_name": "DescriptionStyleModel",
       "_view_count": null,
       "_view_module": "@jupyter-widgets/base",
       "_view_module_version": "1.2.0",
       "_view_name": "StyleView",
       "description_width": ""
      }
     },
     "b366cd8840204cfb804bbc120ab07d3d": {
      "model_module": "@jupyter-widgets/controls",
      "model_module_version": "1.5.0",
      "model_name": "ProgressStyleModel",
      "state": {
       "_model_module": "@jupyter-widgets/controls",
       "_model_module_version": "1.5.0",
       "_model_name": "ProgressStyleModel",
       "_view_count": null,
       "_view_module": "@jupyter-widgets/base",
       "_view_module_version": "1.2.0",
       "_view_name": "StyleView",
       "bar_color": null,
       "description_width": ""
      }
     },
     "b474509197a14dfb88fada34ca7ecfdc": {
      "model_module": "@jupyter-widgets/controls",
      "model_module_version": "1.5.0",
      "model_name": "DescriptionStyleModel",
      "state": {
       "_model_module": "@jupyter-widgets/controls",
       "_model_module_version": "1.5.0",
       "_model_name": "DescriptionStyleModel",
       "_view_count": null,
       "_view_module": "@jupyter-widgets/base",
       "_view_module_version": "1.2.0",
       "_view_name": "StyleView",
       "description_width": ""
      }
     },
     "bbc752a25b8948b8b30c18b8658b9911": {
      "model_module": "@jupyter-widgets/base",
      "model_module_version": "1.2.0",
      "model_name": "LayoutModel",
      "state": {
       "_model_module": "@jupyter-widgets/base",
       "_model_module_version": "1.2.0",
       "_model_name": "LayoutModel",
       "_view_count": null,
       "_view_module": "@jupyter-widgets/base",
       "_view_module_version": "1.2.0",
       "_view_name": "LayoutView",
       "align_content": null,
       "align_items": null,
       "align_self": null,
       "border": null,
       "bottom": null,
       "display": null,
       "flex": null,
       "flex_flow": null,
       "grid_area": null,
       "grid_auto_columns": null,
       "grid_auto_flow": null,
       "grid_auto_rows": null,
       "grid_column": null,
       "grid_gap": null,
       "grid_row": null,
       "grid_template_areas": null,
       "grid_template_columns": null,
       "grid_template_rows": null,
       "height": null,
       "justify_content": null,
       "justify_items": null,
       "left": null,
       "margin": null,
       "max_height": null,
       "max_width": null,
       "min_height": null,
       "min_width": null,
       "object_fit": null,
       "object_position": null,
       "order": null,
       "overflow": null,
       "overflow_x": null,
       "overflow_y": null,
       "padding": null,
       "right": null,
       "top": null,
       "visibility": null,
       "width": null
      }
     },
     "cbd812ac27ce476aa1f9c568b39e54be": {
      "model_module": "@jupyter-widgets/base",
      "model_module_version": "1.2.0",
      "model_name": "LayoutModel",
      "state": {
       "_model_module": "@jupyter-widgets/base",
       "_model_module_version": "1.2.0",
       "_model_name": "LayoutModel",
       "_view_count": null,
       "_view_module": "@jupyter-widgets/base",
       "_view_module_version": "1.2.0",
       "_view_name": "LayoutView",
       "align_content": null,
       "align_items": null,
       "align_self": null,
       "border": null,
       "bottom": null,
       "display": null,
       "flex": null,
       "flex_flow": null,
       "grid_area": null,
       "grid_auto_columns": null,
       "grid_auto_flow": null,
       "grid_auto_rows": null,
       "grid_column": null,
       "grid_gap": null,
       "grid_row": null,
       "grid_template_areas": null,
       "grid_template_columns": null,
       "grid_template_rows": null,
       "height": null,
       "justify_content": null,
       "justify_items": null,
       "left": null,
       "margin": null,
       "max_height": null,
       "max_width": null,
       "min_height": null,
       "min_width": null,
       "object_fit": null,
       "object_position": null,
       "order": null,
       "overflow": null,
       "overflow_x": null,
       "overflow_y": null,
       "padding": null,
       "right": null,
       "top": null,
       "visibility": null,
       "width": null
      }
     },
     "ec5afa608efa40798c2e34df85d23130": {
      "model_module": "@jupyter-widgets/base",
      "model_module_version": "1.2.0",
      "model_name": "LayoutModel",
      "state": {
       "_model_module": "@jupyter-widgets/base",
       "_model_module_version": "1.2.0",
       "_model_name": "LayoutModel",
       "_view_count": null,
       "_view_module": "@jupyter-widgets/base",
       "_view_module_version": "1.2.0",
       "_view_name": "LayoutView",
       "align_content": null,
       "align_items": null,
       "align_self": null,
       "border": null,
       "bottom": null,
       "display": null,
       "flex": null,
       "flex_flow": null,
       "grid_area": null,
       "grid_auto_columns": null,
       "grid_auto_flow": null,
       "grid_auto_rows": null,
       "grid_column": null,
       "grid_gap": null,
       "grid_row": null,
       "grid_template_areas": null,
       "grid_template_columns": null,
       "grid_template_rows": null,
       "height": null,
       "justify_content": null,
       "justify_items": null,
       "left": null,
       "margin": null,
       "max_height": null,
       "max_width": null,
       "min_height": null,
       "min_width": null,
       "object_fit": null,
       "object_position": null,
       "order": null,
       "overflow": null,
       "overflow_x": null,
       "overflow_y": null,
       "padding": null,
       "right": null,
       "top": null,
       "visibility": null,
       "width": null
      }
     }
    },
    "version_major": 2,
    "version_minor": 0
   }
  }
 },
 "nbformat": 4,
 "nbformat_minor": 5
}
